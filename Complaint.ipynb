{
  "cells": [
    {
      "cell_type": "markdown",
      "metadata": {
        "id": "view-in-github",
        "colab_type": "text"
      },
      "source": [
        "<a href=\"https://colab.research.google.com/github/d11541df/d11541df/blob/yongjin/Complaint.ipynb\" target=\"_parent\"><img src=\"https://colab.research.google.com/assets/colab-badge.svg\" alt=\"Open In Colab\"/></a>"
      ]
    },
    {
      "cell_type": "code",
      "execution_count": 1,
      "metadata": {
        "colab": {
          "base_uri": "https://localhost:8080/"
        },
        "id": "COr34jIKDUZW",
        "outputId": "8c1e0cc0-1c17-49f1-db94-c00d9e87c765"
      },
      "outputs": [
        {
          "output_type": "stream",
          "name": "stdout",
          "text": [
            "3.7.15 (default, Oct 12 2022, 19:14:55) \n",
            "[GCC 7.5.0]\n"
          ]
        }
      ],
      "source": [
        "import sys\n",
        "\n",
        "\n",
        "print(sys.version)"
      ]
    },
    {
      "cell_type": "code",
      "execution_count": 2,
      "metadata": {
        "colab": {
          "base_uri": "https://localhost:8080/"
        },
        "id": "iqwvOc_jDcST",
        "outputId": "6db137d5-2225-4ad0-b996-22d6625927b4"
      },
      "outputs": [
        {
          "output_type": "stream",
          "name": "stdout",
          "text": [
            "Hit:1 https://cloud.r-project.org/bin/linux/ubuntu bionic-cran40/ InRelease\n",
            "Ign:2 https://developer.download.nvidia.com/compute/machine-learning/repos/ubuntu1804/x86_64  InRelease\n",
            "Hit:3 https://developer.download.nvidia.com/compute/cuda/repos/ubuntu1804/x86_64  InRelease\n",
            "Hit:4 https://developer.download.nvidia.com/compute/machine-learning/repos/ubuntu1804/x86_64  Release\n",
            "Hit:5 http://ppa.launchpad.net/c2d4u.team/c2d4u4.0+/ubuntu bionic InRelease\n",
            "Hit:6 http://archive.ubuntu.com/ubuntu bionic InRelease\n",
            "Get:7 http://security.ubuntu.com/ubuntu bionic-security InRelease [88.7 kB]\n",
            "Get:8 http://archive.ubuntu.com/ubuntu bionic-updates InRelease [88.7 kB]\n",
            "Hit:9 http://ppa.launchpad.net/cran/libgit2/ubuntu bionic InRelease\n",
            "Hit:10 http://ppa.launchpad.net/deadsnakes/ppa/ubuntu bionic InRelease\n",
            "Get:12 http://archive.ubuntu.com/ubuntu bionic-backports InRelease [83.3 kB]\n",
            "Hit:13 http://ppa.launchpad.net/graphics-drivers/ppa/ubuntu bionic InRelease\n",
            "Fetched 261 kB in 3s (103 kB/s)\n",
            "Reading package lists...\n",
            "Reading package lists...\n",
            "Building dependency tree...\n",
            "Reading state information...\n",
            "python-dev is already the newest version (2.7.15~rc1-1).\n",
            "g++ is already the newest version (4:7.4.0-1ubuntu2.3).\n",
            "python3-dev is already the newest version (3.6.7-1~18.04).\n",
            "openjdk-8-jdk is already the newest version (8u342-b07-0ubuntu1~18.04).\n",
            "The following package was automatically installed and is no longer required:\n",
            "  libnvidia-common-460\n",
            "Use 'apt autoremove' to remove it.\n",
            "0 upgraded, 0 newly installed, 0 to remove and 27 not upgraded.\n",
            "Looking in indexes: https://pypi.org/simple, https://us-python.pkg.dev/colab-wheels/public/simple/\n",
            "Requirement already satisfied: JPype1 in /usr/local/lib/python3.7/dist-packages (1.4.0)\n",
            "Requirement already satisfied: typing-extensions in /usr/local/lib/python3.7/dist-packages (from JPype1) (4.1.1)\n",
            "Looking in indexes: https://pypi.org/simple, https://us-python.pkg.dev/colab-wheels/public/simple/\n",
            "Requirement already satisfied: konlpy in /usr/local/lib/python3.7/dist-packages (0.6.0)\n",
            "Requirement already satisfied: JPype1>=0.7.0 in /usr/local/lib/python3.7/dist-packages (from konlpy) (1.4.0)\n",
            "Requirement already satisfied: numpy>=1.6 in /usr/local/lib/python3.7/dist-packages (from konlpy) (1.21.6)\n",
            "Requirement already satisfied: lxml>=4.1.0 in /usr/local/lib/python3.7/dist-packages (from konlpy) (4.9.1)\n",
            "Requirement already satisfied: typing-extensions in /usr/local/lib/python3.7/dist-packages (from JPype1>=0.7.0->konlpy) (4.1.1)\n"
          ]
        }
      ],
      "source": [
        "%%bash\n",
        "apt-get update\n",
        "apt-get install g++ openjdk-8-jdk python-dev python3-dev\n",
        "pip3 install JPype1\n",
        "pip3 install konlpy"
      ]
    },
    {
      "cell_type": "code",
      "execution_count": 3,
      "metadata": {
        "colab": {
          "base_uri": "https://localhost:8080/"
        },
        "id": "u6RrBBuIEs0Q",
        "outputId": "7c98ef36-4454-4627-cc73-790c1ce05c8d"
      },
      "outputs": [
        {
          "output_type": "stream",
          "name": "stdout",
          "text": [
            "env: JAVA_HOME=\"/usr/lib/jvm/java-8-openjdk-amd64\"\n"
          ]
        }
      ],
      "source": [
        "%env JAVA_HOME \"/usr/lib/jvm/java-8-openjdk-amd64\""
      ]
    },
    {
      "cell_type": "code",
      "execution_count": 4,
      "metadata": {
        "colab": {
          "base_uri": "https://localhost:8080/"
        },
        "id": "1raJcTREFGHw",
        "outputId": "e86437ad-4703-435b-e37a-df61c514e6c9"
      },
      "outputs": [
        {
          "output_type": "stream",
          "name": "stdout",
          "text": [
            "mecab-ko is already installed\n",
            "mecab-ko-dic is already installed\n",
            "mecab-python is already installed\n",
            "Done.\n",
            "Looking in indexes: https://pypi.org/simple, https://us-python.pkg.dev/colab-wheels/public/simple/\n",
            "Processing /tmp/mecab-python-0.996\n",
            "Building wheels for collected packages: mecab-python\n",
            "  Building wheel for mecab-python (setup.py): started\n",
            "  Building wheel for mecab-python (setup.py): finished with status 'done'\n",
            "  Created wheel for mecab-python: filename=mecab_python-0.996_ko_0.9.2-cp37-cp37m-linux_x86_64.whl size=141799 sha256=3e66c2c14123882a34c2267eb886889380a8fc5daba5539821d2327fcc49a186\n",
            "  Stored in directory: /root/.cache/pip/wheels/40/7b/9f/2922869bef86c3354ae7034f7a3647c573ee1997c2dad0290a\n",
            "Failed to build mecab-python\n",
            "Installing collected packages: mecab-python\n",
            "  Attempting uninstall: mecab-python\n",
            "    Found existing installation: mecab-python 0.996-ko-0.9.2\n",
            "    Uninstalling mecab-python-0.996-ko-0.9.2:\n",
            "      Successfully uninstalled mecab-python-0.996-ko-0.9.2\n",
            "    Running setup.py install for mecab-python: started\n",
            "    Running setup.py install for mecab-python: finished with status 'done'\n",
            "Successfully installed mecab-python-0.996-ko-0.9.2\n"
          ]
        },
        {
          "output_type": "stream",
          "name": "stderr",
          "text": [
            "  DEPRECATION: A future pip version will change local packages to be built in-place without first copying to a temporary directory. We recommend you use --use-feature=in-tree-build to test your packages with this new behavior before it becomes the default.\n",
            "   pip 21.3 will remove support for this functionality. You can find discussion regarding this at https://github.com/pypa/pip/issues/7555.\n",
            "  WARNING: Built wheel for mecab-python is invalid: Metadata 1.2 mandates PEP 440 version, but '0.996-ko-0.9.2' is not\n",
            "  DEPRECATION: mecab-python was installed using the legacy 'setup.py install' method, because a wheel could not be built for it. A possible replacement is to fix the wheel build issue reported above. You can find discussion regarding this at https://github.com/pypa/pip/issues/8368.\n"
          ]
        }
      ],
      "source": [
        "%%bash\n",
        "bash <(curl -s https://raw.githubusercontent.com/konlpy/konlpy/master/scripts/mecab.sh)\n",
        "pip3 install /tmp/mecab-python-0.996"
      ]
    },
    {
      "cell_type": "code",
      "execution_count": 5,
      "metadata": {
        "id": "6tiG55SpFonR"
      },
      "outputs": [],
      "source": [
        "import pandas as pd\n",
        "\n",
        "import konlpy\n",
        "from konlpy.tag import Kkma, Komoran, Hannanum, Okt\n",
        "from konlpy.utils import pprint\n",
        "from konlpy.tag import Mecab\n",
        "\n",
        "import nltk\n",
        "from nltk import FreqDist\n",
        "import numpy as np\n",
        "\n",
        "import re\n",
        "import regex\n"
      ]
    },
    {
      "cell_type": "code",
      "execution_count": 6,
      "metadata": {
        "colab": {
          "base_uri": "https://localhost:8080/"
        },
        "id": "5YTqu5Y4Fp1o",
        "outputId": "07bf69fa-fe9d-4266-e15a-b851e1e90252"
      },
      "outputs": [
        {
          "output_type": "execute_result",
          "data": {
            "text/plain": [
              "['안녕', '하', '세요', '저', '는', '용진', '입니다', '.']"
            ]
          },
          "metadata": {},
          "execution_count": 6
        }
      ],
      "source": [
        "mecab = Mecab()\n",
        "sentence = \"안녕하세요 저는 용진입니다.\"\n",
        "temp_X = mecab.morphs(sentence)\n",
        "temp_X"
      ]
    },
    {
      "cell_type": "code",
      "execution_count": 31,
      "metadata": {
        "id": "tHNi4bBSFx7W"
      },
      "outputs": [],
      "source": [
        "df1 = pd.read_csv('/content/drive/MyDrive/csv file/수원시_국민신문고_크롤링(21년10월부터_22년10월).csv')\n",
        "df2 = pd.read_csv('/content/drive/MyDrive/csv file/complaint_folder/시장님 보세요_2021.csv')\n",
        "df3 = pd.read_csv('/content/drive/MyDrive/csv file/complaint_folder/시장님 보세요_2022.csv')\n",
        "df4 = pd.read_csv('/content/drive/MyDrive/csv file/complaint_folder/정책제안.csv')\n",
        "df5 = pd.read_csv('/content/drive/MyDrive/csv file/complaint_folder/주민참여예산제안.csv')\n",
        "df6 = pd.read_csv('/content/drive/MyDrive/csv file/complaint_folder/토론광장.csv')"
      ]
    },
    {
      "cell_type": "code",
      "source": [
        "print(df1.info())\n",
        "print(df2.info())\n",
        "print(df3.info())\n",
        "print(df4.info())\n",
        "print(df5.info())\n",
        "print(df6.info())"
      ],
      "metadata": {
        "colab": {
          "base_uri": "https://localhost:8080/"
        },
        "id": "iT7E8rrsuI87",
        "outputId": "15b500f0-92d7-4d98-b346-f3f19249c933"
      },
      "execution_count": 71,
      "outputs": [
        {
          "output_type": "stream",
          "name": "stdout",
          "text": [
            "<class 'pandas.core.frame.DataFrame'>\n",
            "RangeIndex: 1429 entries, 0 to 1428\n",
            "Data columns (total 5 columns):\n",
            " #   Column      Non-Null Count  Dtype \n",
            "---  ------      --------------  ----- \n",
            " 0   Unnamed: 0  1429 non-null   int64 \n",
            " 1   제목          1429 non-null   object\n",
            " 2   내용          1429 non-null   object\n",
            " 3   등록일         1429 non-null   object\n",
            " 4   담당부서        1429 non-null   object\n",
            "dtypes: int64(1), object(4)\n",
            "memory usage: 55.9+ KB\n",
            "None\n",
            "<class 'pandas.core.frame.DataFrame'>\n",
            "RangeIndex: 1920 entries, 0 to 1919\n",
            "Data columns (total 5 columns):\n",
            " #   Column      Non-Null Count  Dtype \n",
            "---  ------      --------------  ----- \n",
            " 0   Unnamed: 0  1920 non-null   int64 \n",
            " 1   time        1920 non-null   object\n",
            " 2   title       1920 non-null   object\n",
            " 3   content     1920 non-null   object\n",
            " 4   department  1920 non-null   object\n",
            "dtypes: int64(1), object(4)\n",
            "memory usage: 75.1+ KB\n",
            "None\n",
            "<class 'pandas.core.frame.DataFrame'>\n",
            "RangeIndex: 398 entries, 0 to 397\n",
            "Data columns (total 5 columns):\n",
            " #   Column      Non-Null Count  Dtype \n",
            "---  ------      --------------  ----- \n",
            " 0   Unnamed: 0  398 non-null    int64 \n",
            " 1   time        398 non-null    object\n",
            " 2   title       398 non-null    object\n",
            " 3   content     398 non-null    object\n",
            " 4   department  398 non-null    object\n",
            "dtypes: int64(1), object(4)\n",
            "memory usage: 15.7+ KB\n",
            "None\n",
            "<class 'pandas.core.frame.DataFrame'>\n",
            "RangeIndex: 156 entries, 0 to 155\n",
            "Data columns (total 8 columns):\n",
            " #   Column      Non-Null Count  Dtype \n",
            "---  ------      --------------  ----- \n",
            " 0   Unnamed: 0  156 non-null    int64 \n",
            " 1   분야          156 non-null    object\n",
            " 2   제목          156 non-null    object\n",
            " 3   작성자         156 non-null    object\n",
            " 4   등록일         156 non-null    object\n",
            " 5   현황 및 문제점    156 non-null    object\n",
            " 6   개선사항        156 non-null    object\n",
            " 7   기대효과        156 non-null    object\n",
            "dtypes: int64(1), object(7)\n",
            "memory usage: 9.9+ KB\n",
            "None\n",
            "<class 'pandas.core.frame.DataFrame'>\n",
            "RangeIndex: 199 entries, 0 to 198\n",
            "Data columns (total 11 columns):\n",
            " #   Column      Non-Null Count  Dtype \n",
            "---  ------      --------------  ----- \n",
            " 0   Unnamed: 0  199 non-null    int64 \n",
            " 1   분야          199 non-null    object\n",
            " 2   제목          199 non-null    object\n",
            " 3   작성자         199 non-null    object\n",
            " 4   등록일         199 non-null    object\n",
            " 5   사업유형        199 non-null    object\n",
            " 6   사업위치(구, 동)  199 non-null    object\n",
            " 7   사업위치        199 non-null    object\n",
            " 8   사업량(물량)     199 non-null    object\n",
            " 9   사업내용        199 non-null    object\n",
            " 10  필요성         199 non-null    object\n",
            "dtypes: int64(1), object(10)\n",
            "memory usage: 17.2+ KB\n",
            "None\n",
            "<class 'pandas.core.frame.DataFrame'>\n",
            "RangeIndex: 48 entries, 0 to 47\n",
            "Data columns (total 6 columns):\n",
            " #   Column      Non-Null Count  Dtype \n",
            "---  ------      --------------  ----- \n",
            " 0   Unnamed: 0  48 non-null     int64 \n",
            " 1   분야          48 non-null     object\n",
            " 2   제목          47 non-null     object\n",
            " 3   작성자         48 non-null     object\n",
            " 4   등록일         48 non-null     object\n",
            " 5   내용          48 non-null     object\n",
            "dtypes: int64(1), object(5)\n",
            "memory usage: 2.4+ KB\n",
            "None\n"
          ]
        }
      ]
    },
    {
      "cell_type": "code",
      "source": [
        "df1_1 = df1['제목']\n",
        "df1_2 = df2['title']\n",
        "df1_3 = df3['title']\n",
        "df1_4 = df4['제목']\n",
        "df1_5 = df5['제목']\n",
        "df1_6 = df6['제목']"
      ],
      "metadata": {
        "id": "Uaa2gJqcwROp"
      },
      "execution_count": 70,
      "outputs": []
    },
    {
      "cell_type": "code",
      "source": [
        "df1_1"
      ],
      "metadata": {
        "colab": {
          "base_uri": "https://localhost:8080/"
        },
        "id": "BulOnUqqwb95",
        "outputId": "d92c75b5-d906-483f-bf68-bd9a75a3bb24"
      },
      "execution_count": 50,
      "outputs": [
        {
          "output_type": "execute_result",
          "data": {
            "text/plain": [
              "0                                   건설정책과 공식 답변 요청\n",
              "1                                          제초작업 요청\n",
              "2       서수원의 낙후된 교통 혁명이 될 구운역 신설 하루빨리 현실화 되길 희망합니다\n",
              "3                       정자동 대유평공원 내 놀이터 그네 파손 복구요청\n",
              "4                                  불법소각장 폐쇄해주세요!!!\n",
              "                           ...                    \n",
              "1424                                고등동 운동시설 확대 요청\n",
              "1425                     수원 한일타운 출근시간 7770버스 배차 문제\n",
              "1426                         인도는 공사중이고 시민은 차도로 내몰고\n",
              "1427                               도로막고 공사하는 모습입니다\n",
              "1428                            (구)도청오거리 인도 가로등 고장\n",
              "Name: 제목, Length: 1429, dtype: object"
            ]
          },
          "metadata": {},
          "execution_count": 50
        }
      ]
    },
    {
      "cell_type": "code",
      "source": [
        "df_21 = pd.concat([df1['제목'], df2['title'],df3['title'],df4['제목'],df6['제목'],df6['제목']])"
      ],
      "metadata": {
        "id": "dZMr87SVwooB"
      },
      "execution_count": 68,
      "outputs": []
    },
    {
      "cell_type": "code",
      "source": [
        "print(df1.shape)\n",
        "print(df2.shape)\n",
        "print(df3.shape)\n",
        "print(df4.shape)\n",
        "print(df5.shape)\n",
        "print(df6.shape)\n",
        "print(df_21.shape)"
      ],
      "metadata": {
        "colab": {
          "base_uri": "https://localhost:8080/"
        },
        "id": "FT5JBi26wyyp",
        "outputId": "5d03a388-b164-4f3d-c0eb-892054ef5bb7"
      },
      "execution_count": 69,
      "outputs": [
        {
          "output_type": "stream",
          "name": "stdout",
          "text": [
            "(1429, 5)\n",
            "(1920, 5)\n",
            "(398, 5)\n",
            "(156, 8)\n",
            "(199, 11)\n",
            "(48, 6)\n",
            "(3999,)\n"
          ]
        }
      ]
    },
    {
      "cell_type": "code",
      "execution_count": 77,
      "metadata": {
        "id": "CpDlBxBKULn4"
      },
      "outputs": [],
      "source": [
        "df_21 = df_21.to_frame(name = 'title')"
      ]
    },
    {
      "cell_type": "code",
      "source": [
        "df_21"
      ],
      "metadata": {
        "colab": {
          "base_uri": "https://localhost:8080/",
          "height": 424
        },
        "id": "aGGE-IW8yI9w",
        "outputId": "1eb9ed4c-26d1-43f8-da85-e51703a05e09"
      },
      "execution_count": 80,
      "outputs": [
        {
          "output_type": "execute_result",
          "data": {
            "text/plain": [
              "                                           title\n",
              "0                                 건설정책과 공식 답변 요청\n",
              "1                                        제초작업 요청\n",
              "2     서수원의 낙후된 교통 혁명이 될 구운역 신설 하루빨리 현실화 되길 희망합니다\n",
              "3                     정자동 대유평공원 내 놀이터 그네 파손 복구요청\n",
              "4                                불법소각장 폐쇄해주세요!!!\n",
              "..                                           ...\n",
              "43  제2차 수원시 중장기 보육기본계획(2022~2026) 수립에 따른 시민 의견수렴\n",
              "44  스마트한 영통구 맞죠? 아리송한 행정구역 어린이집, 초등학교 배정도 난감합니다.\n",
              "45                  수원시 지방자치분권 시민참여 회의 및 토론 참여 건\n",
              "46               「수원특례시 시민헌장(안)」에 대한 시민의견을 듣습니다.\n",
              "47         수원시 권선구 황구지천에 자전거 전용도로및 트레킹길 조성 해 주오,\n",
              "\n",
              "[3999 rows x 1 columns]"
            ],
            "text/html": [
              "\n",
              "  <div id=\"df-1d5dfd18-334b-4a41-8606-0861a51591c0\">\n",
              "    <div class=\"colab-df-container\">\n",
              "      <div>\n",
              "<style scoped>\n",
              "    .dataframe tbody tr th:only-of-type {\n",
              "        vertical-align: middle;\n",
              "    }\n",
              "\n",
              "    .dataframe tbody tr th {\n",
              "        vertical-align: top;\n",
              "    }\n",
              "\n",
              "    .dataframe thead th {\n",
              "        text-align: right;\n",
              "    }\n",
              "</style>\n",
              "<table border=\"1\" class=\"dataframe\">\n",
              "  <thead>\n",
              "    <tr style=\"text-align: right;\">\n",
              "      <th></th>\n",
              "      <th>title</th>\n",
              "    </tr>\n",
              "  </thead>\n",
              "  <tbody>\n",
              "    <tr>\n",
              "      <th>0</th>\n",
              "      <td>건설정책과 공식 답변 요청</td>\n",
              "    </tr>\n",
              "    <tr>\n",
              "      <th>1</th>\n",
              "      <td>제초작업 요청</td>\n",
              "    </tr>\n",
              "    <tr>\n",
              "      <th>2</th>\n",
              "      <td>서수원의 낙후된 교통 혁명이 될 구운역 신설 하루빨리 현실화 되길 희망합니다</td>\n",
              "    </tr>\n",
              "    <tr>\n",
              "      <th>3</th>\n",
              "      <td>정자동 대유평공원 내 놀이터 그네 파손 복구요청</td>\n",
              "    </tr>\n",
              "    <tr>\n",
              "      <th>4</th>\n",
              "      <td>불법소각장 폐쇄해주세요!!!</td>\n",
              "    </tr>\n",
              "    <tr>\n",
              "      <th>...</th>\n",
              "      <td>...</td>\n",
              "    </tr>\n",
              "    <tr>\n",
              "      <th>43</th>\n",
              "      <td>제2차 수원시 중장기 보육기본계획(2022~2026) 수립에 따른 시민 의견수렴</td>\n",
              "    </tr>\n",
              "    <tr>\n",
              "      <th>44</th>\n",
              "      <td>스마트한 영통구 맞죠? 아리송한 행정구역 어린이집, 초등학교 배정도 난감합니다.</td>\n",
              "    </tr>\n",
              "    <tr>\n",
              "      <th>45</th>\n",
              "      <td>수원시 지방자치분권 시민참여 회의 및 토론 참여 건</td>\n",
              "    </tr>\n",
              "    <tr>\n",
              "      <th>46</th>\n",
              "      <td>「수원특례시 시민헌장(안)」에 대한 시민의견을 듣습니다.</td>\n",
              "    </tr>\n",
              "    <tr>\n",
              "      <th>47</th>\n",
              "      <td>수원시 권선구 황구지천에 자전거 전용도로및 트레킹길 조성 해 주오,</td>\n",
              "    </tr>\n",
              "  </tbody>\n",
              "</table>\n",
              "<p>3999 rows × 1 columns</p>\n",
              "</div>\n",
              "      <button class=\"colab-df-convert\" onclick=\"convertToInteractive('df-1d5dfd18-334b-4a41-8606-0861a51591c0')\"\n",
              "              title=\"Convert this dataframe to an interactive table.\"\n",
              "              style=\"display:none;\">\n",
              "        \n",
              "  <svg xmlns=\"http://www.w3.org/2000/svg\" height=\"24px\"viewBox=\"0 0 24 24\"\n",
              "       width=\"24px\">\n",
              "    <path d=\"M0 0h24v24H0V0z\" fill=\"none\"/>\n",
              "    <path d=\"M18.56 5.44l.94 2.06.94-2.06 2.06-.94-2.06-.94-.94-2.06-.94 2.06-2.06.94zm-11 1L8.5 8.5l.94-2.06 2.06-.94-2.06-.94L8.5 2.5l-.94 2.06-2.06.94zm10 10l.94 2.06.94-2.06 2.06-.94-2.06-.94-.94-2.06-.94 2.06-2.06.94z\"/><path d=\"M17.41 7.96l-1.37-1.37c-.4-.4-.92-.59-1.43-.59-.52 0-1.04.2-1.43.59L10.3 9.45l-7.72 7.72c-.78.78-.78 2.05 0 2.83L4 21.41c.39.39.9.59 1.41.59.51 0 1.02-.2 1.41-.59l7.78-7.78 2.81-2.81c.8-.78.8-2.07 0-2.86zM5.41 20L4 18.59l7.72-7.72 1.47 1.35L5.41 20z\"/>\n",
              "  </svg>\n",
              "      </button>\n",
              "      \n",
              "  <style>\n",
              "    .colab-df-container {\n",
              "      display:flex;\n",
              "      flex-wrap:wrap;\n",
              "      gap: 12px;\n",
              "    }\n",
              "\n",
              "    .colab-df-convert {\n",
              "      background-color: #E8F0FE;\n",
              "      border: none;\n",
              "      border-radius: 50%;\n",
              "      cursor: pointer;\n",
              "      display: none;\n",
              "      fill: #1967D2;\n",
              "      height: 32px;\n",
              "      padding: 0 0 0 0;\n",
              "      width: 32px;\n",
              "    }\n",
              "\n",
              "    .colab-df-convert:hover {\n",
              "      background-color: #E2EBFA;\n",
              "      box-shadow: 0px 1px 2px rgba(60, 64, 67, 0.3), 0px 1px 3px 1px rgba(60, 64, 67, 0.15);\n",
              "      fill: #174EA6;\n",
              "    }\n",
              "\n",
              "    [theme=dark] .colab-df-convert {\n",
              "      background-color: #3B4455;\n",
              "      fill: #D2E3FC;\n",
              "    }\n",
              "\n",
              "    [theme=dark] .colab-df-convert:hover {\n",
              "      background-color: #434B5C;\n",
              "      box-shadow: 0px 1px 3px 1px rgba(0, 0, 0, 0.15);\n",
              "      filter: drop-shadow(0px 1px 2px rgba(0, 0, 0, 0.3));\n",
              "      fill: #FFFFFF;\n",
              "    }\n",
              "  </style>\n",
              "\n",
              "      <script>\n",
              "        const buttonEl =\n",
              "          document.querySelector('#df-1d5dfd18-334b-4a41-8606-0861a51591c0 button.colab-df-convert');\n",
              "        buttonEl.style.display =\n",
              "          google.colab.kernel.accessAllowed ? 'block' : 'none';\n",
              "\n",
              "        async function convertToInteractive(key) {\n",
              "          const element = document.querySelector('#df-1d5dfd18-334b-4a41-8606-0861a51591c0');\n",
              "          const dataTable =\n",
              "            await google.colab.kernel.invokeFunction('convertToInteractive',\n",
              "                                                     [key], {});\n",
              "          if (!dataTable) return;\n",
              "\n",
              "          const docLinkHtml = 'Like what you see? Visit the ' +\n",
              "            '<a target=\"_blank\" href=https://colab.research.google.com/notebooks/data_table.ipynb>data table notebook</a>'\n",
              "            + ' to learn more about interactive tables.';\n",
              "          element.innerHTML = '';\n",
              "          dataTable['output_type'] = 'display_data';\n",
              "          await google.colab.output.renderOutput(dataTable, element);\n",
              "          const docLink = document.createElement('div');\n",
              "          docLink.innerHTML = docLinkHtml;\n",
              "          element.appendChild(docLink);\n",
              "        }\n",
              "      </script>\n",
              "    </div>\n",
              "  </div>\n",
              "  "
            ]
          },
          "metadata": {},
          "execution_count": 80
        }
      ]
    },
    {
      "cell_type": "code",
      "source": [
        "mecab = Mecab()\n",
        "sentence = \"안녕하세요 저는 상휴입니다.\"\n",
        "temp_X = mecab.morphs(sentence)\n",
        "temp_X"
      ],
      "metadata": {
        "colab": {
          "base_uri": "https://localhost:8080/"
        },
        "id": "AfSDvuFhyTXn",
        "outputId": "f6a5efe4-46ae-4011-aa41-5c9a7132079c"
      },
      "execution_count": 81,
      "outputs": [
        {
          "output_type": "execute_result",
          "data": {
            "text/plain": [
              "['안녕', '하', '세요', '저', '는', '상', '휴', '입니다', '.']"
            ]
          },
          "metadata": {},
          "execution_count": 81
        }
      ]
    },
    {
      "cell_type": "code",
      "source": [
        "df_21['title'] = df_21['title'].str.replace(\"[^ㄱ-ㅎㅏ-ㅣ가-힣 ]\",\"\")"
      ],
      "metadata": {
        "colab": {
          "base_uri": "https://localhost:8080/"
        },
        "id": "fJq4vw6NyWr_",
        "outputId": "ffdfc2ad-5bb7-4754-fa99-af81dfc0f1d9"
      },
      "execution_count": 82,
      "outputs": [
        {
          "output_type": "stream",
          "name": "stderr",
          "text": [
            "/usr/local/lib/python3.7/dist-packages/ipykernel_launcher.py:1: FutureWarning: The default value of regex will change from True to False in a future version.\n",
            "  \"\"\"Entry point for launching an IPython kernel.\n"
          ]
        }
      ]
    },
    {
      "cell_type": "code",
      "source": [
        "df_21 = df_21['title'].astype(str)"
      ],
      "metadata": {
        "colab": {
          "base_uri": "https://localhost:8080/",
          "height": 137
        },
        "id": "MSnvOn7Wy-9_",
        "outputId": "bf46486a-0b07-4cee-a128-35c984047e53"
      },
      "execution_count": 91,
      "outputs": [
        {
          "output_type": "error",
          "ename": "SyntaxError",
          "evalue": "ignored",
          "traceback": [
            "\u001b[0;36m  File \u001b[0;32m\"<ipython-input-91-0b3347cea270>\"\u001b[0;36m, line \u001b[0;32m1\u001b[0m\n\u001b[0;31m    df_21[] = df_21['title'].astype(str)\u001b[0m\n\u001b[0m          ^\u001b[0m\n\u001b[0;31mSyntaxError\u001b[0m\u001b[0;31m:\u001b[0m invalid syntax\n"
          ]
        }
      ]
    },
    {
      "cell_type": "code",
      "source": [
        "df_21 = df_21.to_frame(name = 'title')"
      ],
      "metadata": {
        "id": "yAoO6v0PzPA4"
      },
      "execution_count": 93,
      "outputs": []
    },
    {
      "cell_type": "code",
      "execution_count": 94,
      "metadata": {
        "colab": {
          "base_uri": "https://localhost:8080/"
        },
        "id": "huzBfY4JGaZ5",
        "outputId": "efde656b-64cf-41dd-b1f4-7e68764ab452"
      },
      "outputs": [
        {
          "output_type": "stream",
          "name": "stdout",
          "text": [
            "단어 [교통]의 빈도수는?  111 번\n"
          ]
        },
        {
          "output_type": "execute_result",
          "data": {
            "text/plain": [
              "[('구역', 716),\n",
              " ('팔달', 706),\n",
              " ('음식물', 562),\n",
              " ('처리', 555),\n",
              " ('기', 451),\n",
              " ('공사', 318),\n",
              " ('아이파크', 299),\n",
              " ('쓰레기', 269),\n",
              " ('센트럴', 224),\n",
              " ('자이', 221),\n",
              " ('학군', 203),\n",
              " ('공원', 198),\n",
              " ('소음', 177),\n",
              " ('영통', 177),\n",
              " ('제거', 176),\n",
              " ('변경', 167),\n",
              " ('설치', 165),\n",
              " ('엘클래스', 147),\n",
              " ('건', 142),\n",
              " ('버스', 139),\n",
              " ('중단', 127),\n",
              " ('시설', 126),\n",
              " ('사업', 122),\n",
              " ('균형발전', 113),\n",
              " ('시장', 111),\n",
              " ('도모', 111),\n",
              " ('중학교', 106),\n",
              " ('개발', 101),\n",
              " ('도로', 99),\n",
              " ('망포', 94),\n",
              " ('푸르지오', 92),\n",
              " ('아파트', 90),\n",
              " ('주차', 89),\n",
              " ('앞', 88),\n",
              " ('허가', 88),\n",
              " ('요구', 87),\n",
              " ('신설', 76),\n",
              " ('복합', 76),\n",
              " ('불법', 74),\n",
              " ('소각장', 72),\n",
              " ('지구', 72),\n",
              " ('보수', 71),\n",
              " ('현대산업개발', 71),\n",
              " ('심사', 70),\n",
              " ('착공', 70),\n",
              " ('시민', 68),\n",
              " ('힐', 68),\n",
              " ('스테이트', 68),\n",
              " ('권선', 67),\n",
              " ('구내', 67)]"
            ]
          },
          "metadata": {},
          "execution_count": 94
        }
      ],
      "source": [
        "\n",
        "\n",
        "stopwords=['뭐','으면','을','의','가','이','은','들','는','좀','잘','걍','과','도','를','으로','자','에','와','한','하다''아래', '상상', '제안', '까지', '닷컴', '포털', '사이트', '천만', '오아시스', '이벤트', '접수','수원시',\n",
        " '수원', '천만상상','파일','첨부','응모', '슬로건', '공모', '공모전', '응모전', '신청', '경우',\n",
        " '때문', '정도', '사항', '해당', '겁나다', '이것', '저것', '그것', '돋움', '신명', '태명', '한컴', '돋움',\n",
        " '동안', '거기', '저기', '여기', '대부분', '누구', '무엇', '고딕', '만큼', '굴림', '감사', '건지', '텐데',\n",
        " '안녕', '이번', '걸로', '수고', '겁니까', '그간', '그건', '그때', '글쓴이', '누가', '니다', '다면', '뭔가',\n",
        " '상상오아시스', '하다', '이다', '되다', '같다', '궁', '자체', '서체', '정', '서', '이', '을', '있다', '없다',\n",
        " '체', '관련', '생각', '현재','진행', '사람', '마음', '남산', '내용', '현실', '음', '막', '김', '변', '조', '오',\n",
        " '참', '동', '지금', '주변', '대상', '부분', '요즘', '하루', '마련', '세대', '시간', '이상', '행위', '활동',\n",
        " '구분', '사실', '과정', '모습', '기간', '선정', '단지', '자신', '발생', '지역', '기대', '마련', '장소',\n",
        " '모두', '부탁', '제공', '이용', '해주', '당시', '최근', '민원', '문제', '문제점', '현황', '개선', '방안',\n",
        " '문의', '답변', '일동', '요청', '담당자', '직원', '방법', '사용', '활용', '확인', '방식', '예전', '로','하','합니다']\n",
        "\n",
        "tokenizer = Mecab()\n",
        "res = []\n",
        "for sentence in df_21['title']:\n",
        "  tmp = []\n",
        "  tmp = tokenizer.nouns(sentence)\n",
        "  \n",
        "  tokenized = []\n",
        "  for token in tmp:\n",
        "    if not token in stopwords:\n",
        "      tokenized.append(token)\n",
        "\n",
        "  res.append(tokenized)\n",
        "\n",
        "vocab = FreqDist(np.hstack(res))\n",
        "print('단어 [교통]의 빈도수는? ', vocab['시장'], '번')\n",
        "\n",
        "vocab = vocab.most_common(50)\n",
        "vocab"
      ]
    },
    {
      "cell_type": "code",
      "execution_count": 95,
      "metadata": {
        "id": "KDUIKYk-qNQT"
      },
      "outputs": [],
      "source": [
        "df1 = pd.DataFrame(vocab, columns = ['complaint_counts', 'num'])"
      ]
    },
    {
      "cell_type": "code",
      "source": [
        "df1"
      ],
      "metadata": {
        "colab": {
          "base_uri": "https://localhost:8080/",
          "height": 1000
        },
        "id": "1CS00LnprWFD",
        "outputId": "f1cf2eec-dafe-4e50-ca04-24349146a7ee"
      },
      "execution_count": 96,
      "outputs": [
        {
          "output_type": "execute_result",
          "data": {
            "text/plain": [
              "   complaint_counts  num\n",
              "0                구역  716\n",
              "1                팔달  706\n",
              "2               음식물  562\n",
              "3                처리  555\n",
              "4                 기  451\n",
              "5                공사  318\n",
              "6              아이파크  299\n",
              "7               쓰레기  269\n",
              "8               센트럴  224\n",
              "9                자이  221\n",
              "10               학군  203\n",
              "11               공원  198\n",
              "12               소음  177\n",
              "13               영통  177\n",
              "14               제거  176\n",
              "15               변경  167\n",
              "16               설치  165\n",
              "17             엘클래스  147\n",
              "18                건  142\n",
              "19               버스  139\n",
              "20               중단  127\n",
              "21               시설  126\n",
              "22               사업  122\n",
              "23             균형발전  113\n",
              "24               시장  111\n",
              "25               도모  111\n",
              "26              중학교  106\n",
              "27               개발  101\n",
              "28               도로   99\n",
              "29               망포   94\n",
              "30             푸르지오   92\n",
              "31              아파트   90\n",
              "32               주차   89\n",
              "33                앞   88\n",
              "34               허가   88\n",
              "35               요구   87\n",
              "36               신설   76\n",
              "37               복합   76\n",
              "38               불법   74\n",
              "39              소각장   72\n",
              "40               지구   72\n",
              "41               보수   71\n",
              "42           현대산업개발   71\n",
              "43               심사   70\n",
              "44               착공   70\n",
              "45               시민   68\n",
              "46                힐   68\n",
              "47             스테이트   68\n",
              "48               권선   67\n",
              "49               구내   67"
            ],
            "text/html": [
              "\n",
              "  <div id=\"df-f9ebb167-a49f-46d2-a78e-37e73f8b5668\">\n",
              "    <div class=\"colab-df-container\">\n",
              "      <div>\n",
              "<style scoped>\n",
              "    .dataframe tbody tr th:only-of-type {\n",
              "        vertical-align: middle;\n",
              "    }\n",
              "\n",
              "    .dataframe tbody tr th {\n",
              "        vertical-align: top;\n",
              "    }\n",
              "\n",
              "    .dataframe thead th {\n",
              "        text-align: right;\n",
              "    }\n",
              "</style>\n",
              "<table border=\"1\" class=\"dataframe\">\n",
              "  <thead>\n",
              "    <tr style=\"text-align: right;\">\n",
              "      <th></th>\n",
              "      <th>complaint_counts</th>\n",
              "      <th>num</th>\n",
              "    </tr>\n",
              "  </thead>\n",
              "  <tbody>\n",
              "    <tr>\n",
              "      <th>0</th>\n",
              "      <td>구역</td>\n",
              "      <td>716</td>\n",
              "    </tr>\n",
              "    <tr>\n",
              "      <th>1</th>\n",
              "      <td>팔달</td>\n",
              "      <td>706</td>\n",
              "    </tr>\n",
              "    <tr>\n",
              "      <th>2</th>\n",
              "      <td>음식물</td>\n",
              "      <td>562</td>\n",
              "    </tr>\n",
              "    <tr>\n",
              "      <th>3</th>\n",
              "      <td>처리</td>\n",
              "      <td>555</td>\n",
              "    </tr>\n",
              "    <tr>\n",
              "      <th>4</th>\n",
              "      <td>기</td>\n",
              "      <td>451</td>\n",
              "    </tr>\n",
              "    <tr>\n",
              "      <th>5</th>\n",
              "      <td>공사</td>\n",
              "      <td>318</td>\n",
              "    </tr>\n",
              "    <tr>\n",
              "      <th>6</th>\n",
              "      <td>아이파크</td>\n",
              "      <td>299</td>\n",
              "    </tr>\n",
              "    <tr>\n",
              "      <th>7</th>\n",
              "      <td>쓰레기</td>\n",
              "      <td>269</td>\n",
              "    </tr>\n",
              "    <tr>\n",
              "      <th>8</th>\n",
              "      <td>센트럴</td>\n",
              "      <td>224</td>\n",
              "    </tr>\n",
              "    <tr>\n",
              "      <th>9</th>\n",
              "      <td>자이</td>\n",
              "      <td>221</td>\n",
              "    </tr>\n",
              "    <tr>\n",
              "      <th>10</th>\n",
              "      <td>학군</td>\n",
              "      <td>203</td>\n",
              "    </tr>\n",
              "    <tr>\n",
              "      <th>11</th>\n",
              "      <td>공원</td>\n",
              "      <td>198</td>\n",
              "    </tr>\n",
              "    <tr>\n",
              "      <th>12</th>\n",
              "      <td>소음</td>\n",
              "      <td>177</td>\n",
              "    </tr>\n",
              "    <tr>\n",
              "      <th>13</th>\n",
              "      <td>영통</td>\n",
              "      <td>177</td>\n",
              "    </tr>\n",
              "    <tr>\n",
              "      <th>14</th>\n",
              "      <td>제거</td>\n",
              "      <td>176</td>\n",
              "    </tr>\n",
              "    <tr>\n",
              "      <th>15</th>\n",
              "      <td>변경</td>\n",
              "      <td>167</td>\n",
              "    </tr>\n",
              "    <tr>\n",
              "      <th>16</th>\n",
              "      <td>설치</td>\n",
              "      <td>165</td>\n",
              "    </tr>\n",
              "    <tr>\n",
              "      <th>17</th>\n",
              "      <td>엘클래스</td>\n",
              "      <td>147</td>\n",
              "    </tr>\n",
              "    <tr>\n",
              "      <th>18</th>\n",
              "      <td>건</td>\n",
              "      <td>142</td>\n",
              "    </tr>\n",
              "    <tr>\n",
              "      <th>19</th>\n",
              "      <td>버스</td>\n",
              "      <td>139</td>\n",
              "    </tr>\n",
              "    <tr>\n",
              "      <th>20</th>\n",
              "      <td>중단</td>\n",
              "      <td>127</td>\n",
              "    </tr>\n",
              "    <tr>\n",
              "      <th>21</th>\n",
              "      <td>시설</td>\n",
              "      <td>126</td>\n",
              "    </tr>\n",
              "    <tr>\n",
              "      <th>22</th>\n",
              "      <td>사업</td>\n",
              "      <td>122</td>\n",
              "    </tr>\n",
              "    <tr>\n",
              "      <th>23</th>\n",
              "      <td>균형발전</td>\n",
              "      <td>113</td>\n",
              "    </tr>\n",
              "    <tr>\n",
              "      <th>24</th>\n",
              "      <td>시장</td>\n",
              "      <td>111</td>\n",
              "    </tr>\n",
              "    <tr>\n",
              "      <th>25</th>\n",
              "      <td>도모</td>\n",
              "      <td>111</td>\n",
              "    </tr>\n",
              "    <tr>\n",
              "      <th>26</th>\n",
              "      <td>중학교</td>\n",
              "      <td>106</td>\n",
              "    </tr>\n",
              "    <tr>\n",
              "      <th>27</th>\n",
              "      <td>개발</td>\n",
              "      <td>101</td>\n",
              "    </tr>\n",
              "    <tr>\n",
              "      <th>28</th>\n",
              "      <td>도로</td>\n",
              "      <td>99</td>\n",
              "    </tr>\n",
              "    <tr>\n",
              "      <th>29</th>\n",
              "      <td>망포</td>\n",
              "      <td>94</td>\n",
              "    </tr>\n",
              "    <tr>\n",
              "      <th>30</th>\n",
              "      <td>푸르지오</td>\n",
              "      <td>92</td>\n",
              "    </tr>\n",
              "    <tr>\n",
              "      <th>31</th>\n",
              "      <td>아파트</td>\n",
              "      <td>90</td>\n",
              "    </tr>\n",
              "    <tr>\n",
              "      <th>32</th>\n",
              "      <td>주차</td>\n",
              "      <td>89</td>\n",
              "    </tr>\n",
              "    <tr>\n",
              "      <th>33</th>\n",
              "      <td>앞</td>\n",
              "      <td>88</td>\n",
              "    </tr>\n",
              "    <tr>\n",
              "      <th>34</th>\n",
              "      <td>허가</td>\n",
              "      <td>88</td>\n",
              "    </tr>\n",
              "    <tr>\n",
              "      <th>35</th>\n",
              "      <td>요구</td>\n",
              "      <td>87</td>\n",
              "    </tr>\n",
              "    <tr>\n",
              "      <th>36</th>\n",
              "      <td>신설</td>\n",
              "      <td>76</td>\n",
              "    </tr>\n",
              "    <tr>\n",
              "      <th>37</th>\n",
              "      <td>복합</td>\n",
              "      <td>76</td>\n",
              "    </tr>\n",
              "    <tr>\n",
              "      <th>38</th>\n",
              "      <td>불법</td>\n",
              "      <td>74</td>\n",
              "    </tr>\n",
              "    <tr>\n",
              "      <th>39</th>\n",
              "      <td>소각장</td>\n",
              "      <td>72</td>\n",
              "    </tr>\n",
              "    <tr>\n",
              "      <th>40</th>\n",
              "      <td>지구</td>\n",
              "      <td>72</td>\n",
              "    </tr>\n",
              "    <tr>\n",
              "      <th>41</th>\n",
              "      <td>보수</td>\n",
              "      <td>71</td>\n",
              "    </tr>\n",
              "    <tr>\n",
              "      <th>42</th>\n",
              "      <td>현대산업개발</td>\n",
              "      <td>71</td>\n",
              "    </tr>\n",
              "    <tr>\n",
              "      <th>43</th>\n",
              "      <td>심사</td>\n",
              "      <td>70</td>\n",
              "    </tr>\n",
              "    <tr>\n",
              "      <th>44</th>\n",
              "      <td>착공</td>\n",
              "      <td>70</td>\n",
              "    </tr>\n",
              "    <tr>\n",
              "      <th>45</th>\n",
              "      <td>시민</td>\n",
              "      <td>68</td>\n",
              "    </tr>\n",
              "    <tr>\n",
              "      <th>46</th>\n",
              "      <td>힐</td>\n",
              "      <td>68</td>\n",
              "    </tr>\n",
              "    <tr>\n",
              "      <th>47</th>\n",
              "      <td>스테이트</td>\n",
              "      <td>68</td>\n",
              "    </tr>\n",
              "    <tr>\n",
              "      <th>48</th>\n",
              "      <td>권선</td>\n",
              "      <td>67</td>\n",
              "    </tr>\n",
              "    <tr>\n",
              "      <th>49</th>\n",
              "      <td>구내</td>\n",
              "      <td>67</td>\n",
              "    </tr>\n",
              "  </tbody>\n",
              "</table>\n",
              "</div>\n",
              "      <button class=\"colab-df-convert\" onclick=\"convertToInteractive('df-f9ebb167-a49f-46d2-a78e-37e73f8b5668')\"\n",
              "              title=\"Convert this dataframe to an interactive table.\"\n",
              "              style=\"display:none;\">\n",
              "        \n",
              "  <svg xmlns=\"http://www.w3.org/2000/svg\" height=\"24px\"viewBox=\"0 0 24 24\"\n",
              "       width=\"24px\">\n",
              "    <path d=\"M0 0h24v24H0V0z\" fill=\"none\"/>\n",
              "    <path d=\"M18.56 5.44l.94 2.06.94-2.06 2.06-.94-2.06-.94-.94-2.06-.94 2.06-2.06.94zm-11 1L8.5 8.5l.94-2.06 2.06-.94-2.06-.94L8.5 2.5l-.94 2.06-2.06.94zm10 10l.94 2.06.94-2.06 2.06-.94-2.06-.94-.94-2.06-.94 2.06-2.06.94z\"/><path d=\"M17.41 7.96l-1.37-1.37c-.4-.4-.92-.59-1.43-.59-.52 0-1.04.2-1.43.59L10.3 9.45l-7.72 7.72c-.78.78-.78 2.05 0 2.83L4 21.41c.39.39.9.59 1.41.59.51 0 1.02-.2 1.41-.59l7.78-7.78 2.81-2.81c.8-.78.8-2.07 0-2.86zM5.41 20L4 18.59l7.72-7.72 1.47 1.35L5.41 20z\"/>\n",
              "  </svg>\n",
              "      </button>\n",
              "      \n",
              "  <style>\n",
              "    .colab-df-container {\n",
              "      display:flex;\n",
              "      flex-wrap:wrap;\n",
              "      gap: 12px;\n",
              "    }\n",
              "\n",
              "    .colab-df-convert {\n",
              "      background-color: #E8F0FE;\n",
              "      border: none;\n",
              "      border-radius: 50%;\n",
              "      cursor: pointer;\n",
              "      display: none;\n",
              "      fill: #1967D2;\n",
              "      height: 32px;\n",
              "      padding: 0 0 0 0;\n",
              "      width: 32px;\n",
              "    }\n",
              "\n",
              "    .colab-df-convert:hover {\n",
              "      background-color: #E2EBFA;\n",
              "      box-shadow: 0px 1px 2px rgba(60, 64, 67, 0.3), 0px 1px 3px 1px rgba(60, 64, 67, 0.15);\n",
              "      fill: #174EA6;\n",
              "    }\n",
              "\n",
              "    [theme=dark] .colab-df-convert {\n",
              "      background-color: #3B4455;\n",
              "      fill: #D2E3FC;\n",
              "    }\n",
              "\n",
              "    [theme=dark] .colab-df-convert:hover {\n",
              "      background-color: #434B5C;\n",
              "      box-shadow: 0px 1px 3px 1px rgba(0, 0, 0, 0.15);\n",
              "      filter: drop-shadow(0px 1px 2px rgba(0, 0, 0, 0.3));\n",
              "      fill: #FFFFFF;\n",
              "    }\n",
              "  </style>\n",
              "\n",
              "      <script>\n",
              "        const buttonEl =\n",
              "          document.querySelector('#df-f9ebb167-a49f-46d2-a78e-37e73f8b5668 button.colab-df-convert');\n",
              "        buttonEl.style.display =\n",
              "          google.colab.kernel.accessAllowed ? 'block' : 'none';\n",
              "\n",
              "        async function convertToInteractive(key) {\n",
              "          const element = document.querySelector('#df-f9ebb167-a49f-46d2-a78e-37e73f8b5668');\n",
              "          const dataTable =\n",
              "            await google.colab.kernel.invokeFunction('convertToInteractive',\n",
              "                                                     [key], {});\n",
              "          if (!dataTable) return;\n",
              "\n",
              "          const docLinkHtml = 'Like what you see? Visit the ' +\n",
              "            '<a target=\"_blank\" href=https://colab.research.google.com/notebooks/data_table.ipynb>data table notebook</a>'\n",
              "            + ' to learn more about interactive tables.';\n",
              "          element.innerHTML = '';\n",
              "          dataTable['output_type'] = 'display_data';\n",
              "          await google.colab.output.renderOutput(dataTable, element);\n",
              "          const docLink = document.createElement('div');\n",
              "          docLink.innerHTML = docLinkHtml;\n",
              "          element.appendChild(docLink);\n",
              "        }\n",
              "      </script>\n",
              "    </div>\n",
              "  </div>\n",
              "  "
            ]
          },
          "metadata": {},
          "execution_count": 96
        }
      ]
    },
    {
      "cell_type": "code",
      "execution_count": 97,
      "metadata": {
        "id": "n0lVCb6WsGyW"
      },
      "outputs": [],
      "source": [
        "df1 = df1[df1['complaint_counts'].map(lambda x: len(str(x)) >= 2)]"
      ]
    },
    {
      "cell_type": "code",
      "source": [
        "df1.to_csv('mecab.csv',encoding = 'utf-8-sig')"
      ],
      "metadata": {
        "id": "AN1hfRsErRwk"
      },
      "execution_count": 98,
      "outputs": []
    }
  ],
  "metadata": {
    "colab": {
      "collapsed_sections": [],
      "provenance": [],
      "mount_file_id": "1S0PgnHzhGPbmYfJvg6pnwBuc_yZ2bLCr",
      "authorship_tag": "ABX9TyOo9lXQbGuPfJCtRXxb9dh9",
      "include_colab_link": true
    },
    "kernelspec": {
      "display_name": "Python 3",
      "name": "python3"
    },
    "language_info": {
      "name": "python"
    }
  },
  "nbformat": 4,
  "nbformat_minor": 0
}